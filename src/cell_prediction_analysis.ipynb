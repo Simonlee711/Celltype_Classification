{
 "cells": [
  {
   "cell_type": "markdown",
   "metadata": {},
   "source": [
    "# EPFL BIO 322 Project  \n",
    "### Gene Prediction based on Mouse brain single cell gene expression profiles\n",
    "\n",
    "### Authors:\n",
    "\n",
    "- Simon Lee (simon.lee@epfl.ch) \n",
    "- Léa Goffinet (lea.goffinet@epfl.ch)"
   ]
  },
  {
   "cell_type": "markdown",
   "metadata": {},
   "source": [
    "## Project Description\n",
    "\n",
    "In an experiment on epigenetics and memory, Giulia Santoni (from the lab of Johannes Gräff at\n",
    "EPFL) measured the gene expression levels in multiple cells of a mouse brain under three different\n",
    "conditions that we call KAT5, CBP and eGFP. In this challenge, the goal is to predict – as accurately\n",
    "as possible – for each cell the experimental condition (KAT5, CBP or eGFP) under which it was\n",
    "measured, given only the gene expression levels."
   ]
  },
  {
   "cell_type": "code",
   "execution_count": 1,
   "metadata": {},
   "outputs": [],
   "source": [
    "# import libraries\n",
    "import matplotlib.pyplot as plt\n",
    "import numpy as np\n",
    "import pandas as pd\n",
    "import seaborn as sns\n",
    "from IPython.core.interactiveshell import InteractiveShell\n",
    "\n",
    "from tqdm import tqdm\n",
    "import requests\n",
    "import os\n",
    "import sys\n",
    "from pathlib import Path\n",
    "import multiprocessing as mp\n",
    "from multiprocessing import Process\n",
    "import concurrent\n",
    "from multiprocessing import Pool\n",
    "import xgboost as xgb\n",
    "import glob\n",
    "\n",
    "InteractiveShell.ast_node_interactivity = \"all\""
   ]
  },
  {
   "cell_type": "markdown",
   "metadata": {},
   "source": [
    "### Data Preprocessing and visualisation\n",
    "\n",
    "This section covers the loading, filtering and visualisation of the data."
   ]
  },
  {
   "cell_type": "code",
   "execution_count": 2,
   "metadata": {},
   "outputs": [
    {
     "data": {
      "text/html": [
       "<div>\n",
       "<style scoped>\n",
       "    .dataframe tbody tr th:only-of-type {\n",
       "        vertical-align: middle;\n",
       "    }\n",
       "\n",
       "    .dataframe tbody tr th {\n",
       "        vertical-align: top;\n",
       "    }\n",
       "\n",
       "    .dataframe thead th {\n",
       "        text-align: right;\n",
       "    }\n",
       "</style>\n",
       "<table border=\"1\" class=\"dataframe\">\n",
       "  <thead>\n",
       "    <tr style=\"text-align: right;\">\n",
       "      <th></th>\n",
       "      <th>Xkr4</th>\n",
       "      <th>Gm1992</th>\n",
       "      <th>Gm19938</th>\n",
       "      <th>Gm37381</th>\n",
       "      <th>Rp1</th>\n",
       "      <th>Sox17</th>\n",
       "      <th>Gm37587</th>\n",
       "      <th>Gm37323</th>\n",
       "      <th>Mrpl15</th>\n",
       "      <th>Lypla1</th>\n",
       "      <th>...</th>\n",
       "      <th>AC163611.1</th>\n",
       "      <th>AC163611.2</th>\n",
       "      <th>AC140365.1</th>\n",
       "      <th>AC124606.2</th>\n",
       "      <th>AC124606.1</th>\n",
       "      <th>AC133095.2</th>\n",
       "      <th>AC133095.1</th>\n",
       "      <th>AC234645.1</th>\n",
       "      <th>AC149090.1</th>\n",
       "      <th>labels</th>\n",
       "    </tr>\n",
       "  </thead>\n",
       "  <tbody>\n",
       "    <tr>\n",
       "      <th>0</th>\n",
       "      <td>2.190380</td>\n",
       "      <td>0.0</td>\n",
       "      <td>0.000000</td>\n",
       "      <td>0.0</td>\n",
       "      <td>0.0</td>\n",
       "      <td>0.0</td>\n",
       "      <td>0.0</td>\n",
       "      <td>0.0</td>\n",
       "      <td>0.0</td>\n",
       "      <td>0.000000</td>\n",
       "      <td>...</td>\n",
       "      <td>0.0</td>\n",
       "      <td>0.0</td>\n",
       "      <td>0.0</td>\n",
       "      <td>0.0</td>\n",
       "      <td>0.0</td>\n",
       "      <td>0.0</td>\n",
       "      <td>0.0</td>\n",
       "      <td>0.0</td>\n",
       "      <td>1.293686</td>\n",
       "      <td>CBP</td>\n",
       "    </tr>\n",
       "    <tr>\n",
       "      <th>1</th>\n",
       "      <td>2.861984</td>\n",
       "      <td>0.0</td>\n",
       "      <td>0.506726</td>\n",
       "      <td>0.0</td>\n",
       "      <td>0.0</td>\n",
       "      <td>0.0</td>\n",
       "      <td>0.0</td>\n",
       "      <td>0.0</td>\n",
       "      <td>0.0</td>\n",
       "      <td>0.000000</td>\n",
       "      <td>...</td>\n",
       "      <td>0.0</td>\n",
       "      <td>0.0</td>\n",
       "      <td>0.0</td>\n",
       "      <td>0.0</td>\n",
       "      <td>0.0</td>\n",
       "      <td>0.0</td>\n",
       "      <td>0.0</td>\n",
       "      <td>0.0</td>\n",
       "      <td>0.506726</td>\n",
       "      <td>KAT5</td>\n",
       "    </tr>\n",
       "    <tr>\n",
       "      <th>2</th>\n",
       "      <td>2.766762</td>\n",
       "      <td>0.0</td>\n",
       "      <td>0.629614</td>\n",
       "      <td>0.0</td>\n",
       "      <td>0.0</td>\n",
       "      <td>0.0</td>\n",
       "      <td>0.0</td>\n",
       "      <td>0.0</td>\n",
       "      <td>0.0</td>\n",
       "      <td>0.000000</td>\n",
       "      <td>...</td>\n",
       "      <td>0.0</td>\n",
       "      <td>0.0</td>\n",
       "      <td>0.0</td>\n",
       "      <td>0.0</td>\n",
       "      <td>0.0</td>\n",
       "      <td>0.0</td>\n",
       "      <td>0.0</td>\n",
       "      <td>0.0</td>\n",
       "      <td>1.683511</td>\n",
       "      <td>eGFP</td>\n",
       "    </tr>\n",
       "    <tr>\n",
       "      <th>3</th>\n",
       "      <td>2.146434</td>\n",
       "      <td>0.0</td>\n",
       "      <td>0.000000</td>\n",
       "      <td>0.0</td>\n",
       "      <td>0.0</td>\n",
       "      <td>0.0</td>\n",
       "      <td>0.0</td>\n",
       "      <td>0.0</td>\n",
       "      <td>0.0</td>\n",
       "      <td>0.000000</td>\n",
       "      <td>...</td>\n",
       "      <td>0.0</td>\n",
       "      <td>0.0</td>\n",
       "      <td>0.0</td>\n",
       "      <td>0.0</td>\n",
       "      <td>0.0</td>\n",
       "      <td>0.0</td>\n",
       "      <td>0.0</td>\n",
       "      <td>0.0</td>\n",
       "      <td>2.432486</td>\n",
       "      <td>CBP</td>\n",
       "    </tr>\n",
       "    <tr>\n",
       "      <th>4</th>\n",
       "      <td>2.840049</td>\n",
       "      <td>0.0</td>\n",
       "      <td>0.000000</td>\n",
       "      <td>0.0</td>\n",
       "      <td>0.0</td>\n",
       "      <td>0.0</td>\n",
       "      <td>0.0</td>\n",
       "      <td>0.0</td>\n",
       "      <td>0.0</td>\n",
       "      <td>0.000000</td>\n",
       "      <td>...</td>\n",
       "      <td>0.0</td>\n",
       "      <td>0.0</td>\n",
       "      <td>0.0</td>\n",
       "      <td>0.0</td>\n",
       "      <td>0.0</td>\n",
       "      <td>0.0</td>\n",
       "      <td>0.0</td>\n",
       "      <td>0.0</td>\n",
       "      <td>2.164235</td>\n",
       "      <td>eGFP</td>\n",
       "    </tr>\n",
       "    <tr>\n",
       "      <th>...</th>\n",
       "      <td>...</td>\n",
       "      <td>...</td>\n",
       "      <td>...</td>\n",
       "      <td>...</td>\n",
       "      <td>...</td>\n",
       "      <td>...</td>\n",
       "      <td>...</td>\n",
       "      <td>...</td>\n",
       "      <td>...</td>\n",
       "      <td>...</td>\n",
       "      <td>...</td>\n",
       "      <td>...</td>\n",
       "      <td>...</td>\n",
       "      <td>...</td>\n",
       "      <td>...</td>\n",
       "      <td>...</td>\n",
       "      <td>...</td>\n",
       "      <td>...</td>\n",
       "      <td>...</td>\n",
       "      <td>...</td>\n",
       "      <td>...</td>\n",
       "    </tr>\n",
       "    <tr>\n",
       "      <th>4995</th>\n",
       "      <td>2.108581</td>\n",
       "      <td>0.0</td>\n",
       "      <td>0.000000</td>\n",
       "      <td>0.0</td>\n",
       "      <td>0.0</td>\n",
       "      <td>0.0</td>\n",
       "      <td>0.0</td>\n",
       "      <td>0.0</td>\n",
       "      <td>0.0</td>\n",
       "      <td>0.000000</td>\n",
       "      <td>...</td>\n",
       "      <td>0.0</td>\n",
       "      <td>0.0</td>\n",
       "      <td>0.0</td>\n",
       "      <td>0.0</td>\n",
       "      <td>0.0</td>\n",
       "      <td>0.0</td>\n",
       "      <td>0.0</td>\n",
       "      <td>0.0</td>\n",
       "      <td>1.312030</td>\n",
       "      <td>KAT5</td>\n",
       "    </tr>\n",
       "    <tr>\n",
       "      <th>4996</th>\n",
       "      <td>3.108972</td>\n",
       "      <td>0.0</td>\n",
       "      <td>0.783343</td>\n",
       "      <td>0.0</td>\n",
       "      <td>0.0</td>\n",
       "      <td>0.0</td>\n",
       "      <td>0.0</td>\n",
       "      <td>0.0</td>\n",
       "      <td>0.0</td>\n",
       "      <td>0.000000</td>\n",
       "      <td>...</td>\n",
       "      <td>0.0</td>\n",
       "      <td>0.0</td>\n",
       "      <td>0.0</td>\n",
       "      <td>0.0</td>\n",
       "      <td>0.0</td>\n",
       "      <td>0.0</td>\n",
       "      <td>0.0</td>\n",
       "      <td>0.0</td>\n",
       "      <td>1.518711</td>\n",
       "      <td>eGFP</td>\n",
       "    </tr>\n",
       "    <tr>\n",
       "      <th>4997</th>\n",
       "      <td>2.025946</td>\n",
       "      <td>0.0</td>\n",
       "      <td>0.000000</td>\n",
       "      <td>0.0</td>\n",
       "      <td>0.0</td>\n",
       "      <td>0.0</td>\n",
       "      <td>0.0</td>\n",
       "      <td>0.0</td>\n",
       "      <td>0.0</td>\n",
       "      <td>0.000000</td>\n",
       "      <td>...</td>\n",
       "      <td>0.0</td>\n",
       "      <td>0.0</td>\n",
       "      <td>0.0</td>\n",
       "      <td>0.0</td>\n",
       "      <td>0.0</td>\n",
       "      <td>0.0</td>\n",
       "      <td>0.0</td>\n",
       "      <td>0.0</td>\n",
       "      <td>2.025946</td>\n",
       "      <td>CBP</td>\n",
       "    </tr>\n",
       "    <tr>\n",
       "      <th>4998</th>\n",
       "      <td>1.227544</td>\n",
       "      <td>0.0</td>\n",
       "      <td>0.791370</td>\n",
       "      <td>0.0</td>\n",
       "      <td>0.0</td>\n",
       "      <td>0.0</td>\n",
       "      <td>0.0</td>\n",
       "      <td>0.0</td>\n",
       "      <td>0.0</td>\n",
       "      <td>0.000000</td>\n",
       "      <td>...</td>\n",
       "      <td>0.0</td>\n",
       "      <td>0.0</td>\n",
       "      <td>0.0</td>\n",
       "      <td>0.0</td>\n",
       "      <td>0.0</td>\n",
       "      <td>0.0</td>\n",
       "      <td>0.0</td>\n",
       "      <td>0.0</td>\n",
       "      <td>0.000000</td>\n",
       "      <td>KAT5</td>\n",
       "    </tr>\n",
       "    <tr>\n",
       "      <th>4999</th>\n",
       "      <td>2.485066</td>\n",
       "      <td>0.0</td>\n",
       "      <td>0.550120</td>\n",
       "      <td>0.0</td>\n",
       "      <td>0.0</td>\n",
       "      <td>0.0</td>\n",
       "      <td>0.0</td>\n",
       "      <td>0.0</td>\n",
       "      <td>0.0</td>\n",
       "      <td>0.902971</td>\n",
       "      <td>...</td>\n",
       "      <td>0.0</td>\n",
       "      <td>0.0</td>\n",
       "      <td>0.0</td>\n",
       "      <td>0.0</td>\n",
       "      <td>0.0</td>\n",
       "      <td>0.0</td>\n",
       "      <td>0.0</td>\n",
       "      <td>0.0</td>\n",
       "      <td>0.550120</td>\n",
       "      <td>eGFP</td>\n",
       "    </tr>\n",
       "  </tbody>\n",
       "</table>\n",
       "<p>5000 rows × 32286 columns</p>\n",
       "</div>"
      ],
      "text/plain": [
       "          Xkr4  Gm1992   Gm19938  Gm37381  Rp1  Sox17  Gm37587  Gm37323  \\\n",
       "0     2.190380     0.0  0.000000      0.0  0.0    0.0      0.0      0.0   \n",
       "1     2.861984     0.0  0.506726      0.0  0.0    0.0      0.0      0.0   \n",
       "2     2.766762     0.0  0.629614      0.0  0.0    0.0      0.0      0.0   \n",
       "3     2.146434     0.0  0.000000      0.0  0.0    0.0      0.0      0.0   \n",
       "4     2.840049     0.0  0.000000      0.0  0.0    0.0      0.0      0.0   \n",
       "...        ...     ...       ...      ...  ...    ...      ...      ...   \n",
       "4995  2.108581     0.0  0.000000      0.0  0.0    0.0      0.0      0.0   \n",
       "4996  3.108972     0.0  0.783343      0.0  0.0    0.0      0.0      0.0   \n",
       "4997  2.025946     0.0  0.000000      0.0  0.0    0.0      0.0      0.0   \n",
       "4998  1.227544     0.0  0.791370      0.0  0.0    0.0      0.0      0.0   \n",
       "4999  2.485066     0.0  0.550120      0.0  0.0    0.0      0.0      0.0   \n",
       "\n",
       "      Mrpl15    Lypla1  ...  AC163611.1  AC163611.2  AC140365.1  AC124606.2  \\\n",
       "0        0.0  0.000000  ...         0.0         0.0         0.0         0.0   \n",
       "1        0.0  0.000000  ...         0.0         0.0         0.0         0.0   \n",
       "2        0.0  0.000000  ...         0.0         0.0         0.0         0.0   \n",
       "3        0.0  0.000000  ...         0.0         0.0         0.0         0.0   \n",
       "4        0.0  0.000000  ...         0.0         0.0         0.0         0.0   \n",
       "...      ...       ...  ...         ...         ...         ...         ...   \n",
       "4995     0.0  0.000000  ...         0.0         0.0         0.0         0.0   \n",
       "4996     0.0  0.000000  ...         0.0         0.0         0.0         0.0   \n",
       "4997     0.0  0.000000  ...         0.0         0.0         0.0         0.0   \n",
       "4998     0.0  0.000000  ...         0.0         0.0         0.0         0.0   \n",
       "4999     0.0  0.902971  ...         0.0         0.0         0.0         0.0   \n",
       "\n",
       "      AC124606.1  AC133095.2  AC133095.1  AC234645.1  AC149090.1  labels  \n",
       "0            0.0         0.0         0.0         0.0    1.293686     CBP  \n",
       "1            0.0         0.0         0.0         0.0    0.506726    KAT5  \n",
       "2            0.0         0.0         0.0         0.0    1.683511    eGFP  \n",
       "3            0.0         0.0         0.0         0.0    2.432486     CBP  \n",
       "4            0.0         0.0         0.0         0.0    2.164235    eGFP  \n",
       "...          ...         ...         ...         ...         ...     ...  \n",
       "4995         0.0         0.0         0.0         0.0    1.312030    KAT5  \n",
       "4996         0.0         0.0         0.0         0.0    1.518711    eGFP  \n",
       "4997         0.0         0.0         0.0         0.0    2.025946     CBP  \n",
       "4998         0.0         0.0         0.0         0.0    0.000000    KAT5  \n",
       "4999         0.0         0.0         0.0         0.0    0.550120    eGFP  \n",
       "\n",
       "[5000 rows x 32286 columns]"
      ]
     },
     "execution_count": 2,
     "metadata": {},
     "output_type": "execute_result"
    }
   ],
   "source": [
    "# read raw data\n",
    "df = pd.read_csv('../data/train.csv.gz', compression='gzip')\n",
    "df"
   ]
  },
  {
   "cell_type": "markdown",
   "metadata": {},
   "source": [
    "As expected single cell data is extremely sparse. Lets count to see how many non zero entries we actually have per column to get a glimpse of what might be important genes and what might not be important."
   ]
  },
  {
   "cell_type": "code",
   "execution_count": 3,
   "metadata": {},
   "outputs": [],
   "source": [
    "gene_column_headers = df.columns.values.tolist()"
   ]
  },
  {
   "cell_type": "markdown",
   "metadata": {},
   "source": [
    "run this cell only if you want to do filter and write out the counts of how many non zero columns are in each column to a txt file"
   ]
  },
  {
   "cell_type": "code",
   "execution_count": 4,
   "metadata": {},
   "outputs": [],
   "source": [
    "# # this gets the counts of each column and drops the column accordingly\n",
    "# f = open('../data/counts.txt', 'w')\n",
    "# for gene in gene_column_headers:\n",
    "#     count = (df[gene] != 0).sum()\n",
    "    \n",
    "#     f.write('Counts of gene in cells {} : {} \\n'.format(gene, count))  # Uncomment if you want to generate text file with counts\n",
    "\n",
    "#     # new data generator: Takes 3 hrs to run!!\n",
    "#     # if count < 500:\n",
    "#     #     df = df.drop(columns=[gene])\n",
    "\n",
    "# # df.to_csv('../data/filtered_train.csv.gz, compression='gzip')\n",
    "\n",
    "# f.close()"
   ]
  },
  {
   "cell_type": "code",
   "execution_count": 5,
   "metadata": {},
   "outputs": [],
   "source": [
    "df_filtered = pd.read_csv('../data/filtered_train.csv.gz')"
   ]
  },
  {
   "cell_type": "markdown",
   "metadata": {},
   "source": [
    "We can see that the filtering process removed over 22,000 genes that were seen across less than 10% of the cells. Though the threshold is a hyperparameter we believe choosing a smaller hyperparameter will be a safer bet to not throw away useful information"
   ]
  },
  {
   "cell_type": "code",
   "execution_count": 6,
   "metadata": {},
   "outputs": [
    {
     "data": {
      "text/html": [
       "<div>\n",
       "<style scoped>\n",
       "    .dataframe tbody tr th:only-of-type {\n",
       "        vertical-align: middle;\n",
       "    }\n",
       "\n",
       "    .dataframe tbody tr th {\n",
       "        vertical-align: top;\n",
       "    }\n",
       "\n",
       "    .dataframe thead th {\n",
       "        text-align: right;\n",
       "    }\n",
       "</style>\n",
       "<table border=\"1\" class=\"dataframe\">\n",
       "  <thead>\n",
       "    <tr style=\"text-align: right;\">\n",
       "      <th></th>\n",
       "      <th>Unnamed: 0</th>\n",
       "      <th>Xkr4</th>\n",
       "      <th>Gm19938</th>\n",
       "      <th>Mrpl15</th>\n",
       "      <th>Lypla1</th>\n",
       "      <th>Tcea1</th>\n",
       "      <th>Rgs20</th>\n",
       "      <th>Atp6v1h</th>\n",
       "      <th>Rb1cc1</th>\n",
       "      <th>Pcmtd1</th>\n",
       "      <th>...</th>\n",
       "      <th>mt-Co3</th>\n",
       "      <th>mt-Nd3</th>\n",
       "      <th>mt-Nd4</th>\n",
       "      <th>mt-Nd5</th>\n",
       "      <th>mt-Cytb</th>\n",
       "      <th>CAAA01118383.1</th>\n",
       "      <th>Vamp7</th>\n",
       "      <th>Tmlhe</th>\n",
       "      <th>AC149090.1</th>\n",
       "      <th>labels</th>\n",
       "    </tr>\n",
       "  </thead>\n",
       "  <tbody>\n",
       "    <tr>\n",
       "      <th>0</th>\n",
       "      <td>0</td>\n",
       "      <td>2.190380</td>\n",
       "      <td>0.000000</td>\n",
       "      <td>0.0</td>\n",
       "      <td>0.000000</td>\n",
       "      <td>1.293686</td>\n",
       "      <td>0.000000</td>\n",
       "      <td>1.839343</td>\n",
       "      <td>1.839343</td>\n",
       "      <td>2.190380</td>\n",
       "      <td>...</td>\n",
       "      <td>2.190380</td>\n",
       "      <td>0.00000</td>\n",
       "      <td>0.000000</td>\n",
       "      <td>0.000000</td>\n",
       "      <td>0.000000</td>\n",
       "      <td>0.000000</td>\n",
       "      <td>0.0</td>\n",
       "      <td>0.000000</td>\n",
       "      <td>1.293686</td>\n",
       "      <td>CBP</td>\n",
       "    </tr>\n",
       "    <tr>\n",
       "      <th>1</th>\n",
       "      <td>1</td>\n",
       "      <td>2.861984</td>\n",
       "      <td>0.506726</td>\n",
       "      <td>0.0</td>\n",
       "      <td>0.000000</td>\n",
       "      <td>0.506726</td>\n",
       "      <td>1.458439</td>\n",
       "      <td>1.291817</td>\n",
       "      <td>1.091771</td>\n",
       "      <td>0.841436</td>\n",
       "      <td>...</td>\n",
       "      <td>0.000000</td>\n",
       "      <td>0.00000</td>\n",
       "      <td>0.000000</td>\n",
       "      <td>0.000000</td>\n",
       "      <td>0.506726</td>\n",
       "      <td>0.000000</td>\n",
       "      <td>0.0</td>\n",
       "      <td>0.000000</td>\n",
       "      <td>0.506726</td>\n",
       "      <td>KAT5</td>\n",
       "    </tr>\n",
       "    <tr>\n",
       "      <th>2</th>\n",
       "      <td>2</td>\n",
       "      <td>2.766762</td>\n",
       "      <td>0.629614</td>\n",
       "      <td>0.0</td>\n",
       "      <td>0.000000</td>\n",
       "      <td>1.012971</td>\n",
       "      <td>0.629614</td>\n",
       "      <td>0.629614</td>\n",
       "      <td>0.000000</td>\n",
       "      <td>1.012971</td>\n",
       "      <td>...</td>\n",
       "      <td>0.000000</td>\n",
       "      <td>0.00000</td>\n",
       "      <td>0.000000</td>\n",
       "      <td>0.000000</td>\n",
       "      <td>0.629614</td>\n",
       "      <td>0.000000</td>\n",
       "      <td>0.0</td>\n",
       "      <td>0.000000</td>\n",
       "      <td>1.683511</td>\n",
       "      <td>eGFP</td>\n",
       "    </tr>\n",
       "    <tr>\n",
       "      <th>3</th>\n",
       "      <td>3</td>\n",
       "      <td>2.146434</td>\n",
       "      <td>0.000000</td>\n",
       "      <td>0.0</td>\n",
       "      <td>0.000000</td>\n",
       "      <td>0.000000</td>\n",
       "      <td>0.000000</td>\n",
       "      <td>1.060763</td>\n",
       "      <td>0.000000</td>\n",
       "      <td>1.060763</td>\n",
       "      <td>...</td>\n",
       "      <td>0.664895</td>\n",
       "      <td>0.00000</td>\n",
       "      <td>0.000000</td>\n",
       "      <td>0.000000</td>\n",
       "      <td>0.000000</td>\n",
       "      <td>0.000000</td>\n",
       "      <td>0.0</td>\n",
       "      <td>0.000000</td>\n",
       "      <td>2.432486</td>\n",
       "      <td>CBP</td>\n",
       "    </tr>\n",
       "    <tr>\n",
       "      <th>4</th>\n",
       "      <td>4</td>\n",
       "      <td>2.840049</td>\n",
       "      <td>0.000000</td>\n",
       "      <td>0.0</td>\n",
       "      <td>0.000000</td>\n",
       "      <td>0.000000</td>\n",
       "      <td>1.132100</td>\n",
       "      <td>0.531053</td>\n",
       "      <td>0.000000</td>\n",
       "      <td>1.649491</td>\n",
       "      <td>...</td>\n",
       "      <td>0.531053</td>\n",
       "      <td>0.00000</td>\n",
       "      <td>0.000000</td>\n",
       "      <td>0.000000</td>\n",
       "      <td>0.000000</td>\n",
       "      <td>0.531053</td>\n",
       "      <td>0.0</td>\n",
       "      <td>0.000000</td>\n",
       "      <td>2.164235</td>\n",
       "      <td>eGFP</td>\n",
       "    </tr>\n",
       "    <tr>\n",
       "      <th>...</th>\n",
       "      <td>...</td>\n",
       "      <td>...</td>\n",
       "      <td>...</td>\n",
       "      <td>...</td>\n",
       "      <td>...</td>\n",
       "      <td>...</td>\n",
       "      <td>...</td>\n",
       "      <td>...</td>\n",
       "      <td>...</td>\n",
       "      <td>...</td>\n",
       "      <td>...</td>\n",
       "      <td>...</td>\n",
       "      <td>...</td>\n",
       "      <td>...</td>\n",
       "      <td>...</td>\n",
       "      <td>...</td>\n",
       "      <td>...</td>\n",
       "      <td>...</td>\n",
       "      <td>...</td>\n",
       "      <td>...</td>\n",
       "      <td>...</td>\n",
       "    </tr>\n",
       "    <tr>\n",
       "      <th>4995</th>\n",
       "      <td>4995</td>\n",
       "      <td>2.108581</td>\n",
       "      <td>0.000000</td>\n",
       "      <td>0.0</td>\n",
       "      <td>0.000000</td>\n",
       "      <td>0.000000</td>\n",
       "      <td>0.000000</td>\n",
       "      <td>0.000000</td>\n",
       "      <td>0.644255</td>\n",
       "      <td>0.644255</td>\n",
       "      <td>...</td>\n",
       "      <td>1.312030</td>\n",
       "      <td>0.00000</td>\n",
       "      <td>0.000000</td>\n",
       "      <td>0.000000</td>\n",
       "      <td>1.032877</td>\n",
       "      <td>0.000000</td>\n",
       "      <td>0.0</td>\n",
       "      <td>0.000000</td>\n",
       "      <td>1.312030</td>\n",
       "      <td>KAT5</td>\n",
       "    </tr>\n",
       "    <tr>\n",
       "      <th>4996</th>\n",
       "      <td>4996</td>\n",
       "      <td>3.108972</td>\n",
       "      <td>0.783343</td>\n",
       "      <td>0.0</td>\n",
       "      <td>0.000000</td>\n",
       "      <td>0.000000</td>\n",
       "      <td>0.783343</td>\n",
       "      <td>0.783343</td>\n",
       "      <td>0.466491</td>\n",
       "      <td>1.379256</td>\n",
       "      <td>...</td>\n",
       "      <td>0.466491</td>\n",
       "      <td>0.00000</td>\n",
       "      <td>0.000000</td>\n",
       "      <td>0.000000</td>\n",
       "      <td>0.000000</td>\n",
       "      <td>0.000000</td>\n",
       "      <td>0.0</td>\n",
       "      <td>0.466491</td>\n",
       "      <td>1.518711</td>\n",
       "      <td>eGFP</td>\n",
       "    </tr>\n",
       "    <tr>\n",
       "      <th>4997</th>\n",
       "      <td>4997</td>\n",
       "      <td>2.025946</td>\n",
       "      <td>0.000000</td>\n",
       "      <td>0.0</td>\n",
       "      <td>0.000000</td>\n",
       "      <td>0.000000</td>\n",
       "      <td>0.000000</td>\n",
       "      <td>0.000000</td>\n",
       "      <td>2.386459</td>\n",
       "      <td>0.000000</td>\n",
       "      <td>...</td>\n",
       "      <td>2.650884</td>\n",
       "      <td>0.00000</td>\n",
       "      <td>2.386459</td>\n",
       "      <td>1.456669</td>\n",
       "      <td>1.456669</td>\n",
       "      <td>0.000000</td>\n",
       "      <td>0.0</td>\n",
       "      <td>1.456669</td>\n",
       "      <td>2.025946</td>\n",
       "      <td>CBP</td>\n",
       "    </tr>\n",
       "    <tr>\n",
       "      <th>4998</th>\n",
       "      <td>4998</td>\n",
       "      <td>1.227544</td>\n",
       "      <td>0.791370</td>\n",
       "      <td>0.0</td>\n",
       "      <td>0.000000</td>\n",
       "      <td>0.791370</td>\n",
       "      <td>0.000000</td>\n",
       "      <td>0.791370</td>\n",
       "      <td>0.791370</td>\n",
       "      <td>0.791370</td>\n",
       "      <td>...</td>\n",
       "      <td>2.245478</td>\n",
       "      <td>0.79137</td>\n",
       "      <td>1.227544</td>\n",
       "      <td>0.000000</td>\n",
       "      <td>2.108819</td>\n",
       "      <td>0.000000</td>\n",
       "      <td>0.0</td>\n",
       "      <td>0.000000</td>\n",
       "      <td>0.000000</td>\n",
       "      <td>KAT5</td>\n",
       "    </tr>\n",
       "    <tr>\n",
       "      <th>4999</th>\n",
       "      <td>4999</td>\n",
       "      <td>2.485066</td>\n",
       "      <td>0.550120</td>\n",
       "      <td>0.0</td>\n",
       "      <td>0.902971</td>\n",
       "      <td>0.000000</td>\n",
       "      <td>1.163270</td>\n",
       "      <td>0.902971</td>\n",
       "      <td>1.163270</td>\n",
       "      <td>1.163270</td>\n",
       "      <td>...</td>\n",
       "      <td>0.000000</td>\n",
       "      <td>0.00000</td>\n",
       "      <td>0.000000</td>\n",
       "      <td>0.550120</td>\n",
       "      <td>0.000000</td>\n",
       "      <td>0.550120</td>\n",
       "      <td>0.0</td>\n",
       "      <td>0.000000</td>\n",
       "      <td>0.550120</td>\n",
       "      <td>eGFP</td>\n",
       "    </tr>\n",
       "  </tbody>\n",
       "</table>\n",
       "<p>5000 rows × 9139 columns</p>\n",
       "</div>"
      ],
      "text/plain": [
       "      Unnamed: 0      Xkr4   Gm19938  Mrpl15    Lypla1     Tcea1     Rgs20  \\\n",
       "0              0  2.190380  0.000000     0.0  0.000000  1.293686  0.000000   \n",
       "1              1  2.861984  0.506726     0.0  0.000000  0.506726  1.458439   \n",
       "2              2  2.766762  0.629614     0.0  0.000000  1.012971  0.629614   \n",
       "3              3  2.146434  0.000000     0.0  0.000000  0.000000  0.000000   \n",
       "4              4  2.840049  0.000000     0.0  0.000000  0.000000  1.132100   \n",
       "...          ...       ...       ...     ...       ...       ...       ...   \n",
       "4995        4995  2.108581  0.000000     0.0  0.000000  0.000000  0.000000   \n",
       "4996        4996  3.108972  0.783343     0.0  0.000000  0.000000  0.783343   \n",
       "4997        4997  2.025946  0.000000     0.0  0.000000  0.000000  0.000000   \n",
       "4998        4998  1.227544  0.791370     0.0  0.000000  0.791370  0.000000   \n",
       "4999        4999  2.485066  0.550120     0.0  0.902971  0.000000  1.163270   \n",
       "\n",
       "       Atp6v1h    Rb1cc1    Pcmtd1  ...    mt-Co3   mt-Nd3    mt-Nd4  \\\n",
       "0     1.839343  1.839343  2.190380  ...  2.190380  0.00000  0.000000   \n",
       "1     1.291817  1.091771  0.841436  ...  0.000000  0.00000  0.000000   \n",
       "2     0.629614  0.000000  1.012971  ...  0.000000  0.00000  0.000000   \n",
       "3     1.060763  0.000000  1.060763  ...  0.664895  0.00000  0.000000   \n",
       "4     0.531053  0.000000  1.649491  ...  0.531053  0.00000  0.000000   \n",
       "...        ...       ...       ...  ...       ...      ...       ...   \n",
       "4995  0.000000  0.644255  0.644255  ...  1.312030  0.00000  0.000000   \n",
       "4996  0.783343  0.466491  1.379256  ...  0.466491  0.00000  0.000000   \n",
       "4997  0.000000  2.386459  0.000000  ...  2.650884  0.00000  2.386459   \n",
       "4998  0.791370  0.791370  0.791370  ...  2.245478  0.79137  1.227544   \n",
       "4999  0.902971  1.163270  1.163270  ...  0.000000  0.00000  0.000000   \n",
       "\n",
       "        mt-Nd5   mt-Cytb  CAAA01118383.1  Vamp7     Tmlhe  AC149090.1  labels  \n",
       "0     0.000000  0.000000        0.000000    0.0  0.000000    1.293686     CBP  \n",
       "1     0.000000  0.506726        0.000000    0.0  0.000000    0.506726    KAT5  \n",
       "2     0.000000  0.629614        0.000000    0.0  0.000000    1.683511    eGFP  \n",
       "3     0.000000  0.000000        0.000000    0.0  0.000000    2.432486     CBP  \n",
       "4     0.000000  0.000000        0.531053    0.0  0.000000    2.164235    eGFP  \n",
       "...        ...       ...             ...    ...       ...         ...     ...  \n",
       "4995  0.000000  1.032877        0.000000    0.0  0.000000    1.312030    KAT5  \n",
       "4996  0.000000  0.000000        0.000000    0.0  0.466491    1.518711    eGFP  \n",
       "4997  1.456669  1.456669        0.000000    0.0  1.456669    2.025946     CBP  \n",
       "4998  0.000000  2.108819        0.000000    0.0  0.000000    0.000000    KAT5  \n",
       "4999  0.550120  0.000000        0.550120    0.0  0.000000    0.550120    eGFP  \n",
       "\n",
       "[5000 rows x 9139 columns]"
      ]
     },
     "execution_count": 6,
     "metadata": {},
     "output_type": "execute_result"
    }
   ],
   "source": [
    "df_filtered"
   ]
  },
  {
   "cell_type": "code",
   "execution_count": 7,
   "metadata": {},
   "outputs": [],
   "source": [
    "df_filtered = df_filtered.drop(columns='Unnamed: 0')"
   ]
  },
  {
   "cell_type": "code",
   "execution_count": 8,
   "metadata": {},
   "outputs": [
    {
     "name": "stdout",
     "output_type": "stream",
     "text": [
      "False\n"
     ]
    }
   ],
   "source": [
    "#check for any null values incase we need to perform imputation\n",
    "check_nan = df.isnull().values.any()\n",
    "print(check_nan)"
   ]
  },
  {
   "cell_type": "code",
   "execution_count": 9,
   "metadata": {},
   "outputs": [],
   "source": [
    "gene_column_headers = df_filtered.columns.values.tolist()"
   ]
  },
  {
   "cell_type": "markdown",
   "metadata": {},
   "source": [
    "We're performing PCA, once with the whole data and once with the filtered data, to see if there is different clusters but also to make sure that the filtered data is corresponding to the raw data."
   ]
  },
  {
   "cell_type": "code",
   "execution_count": 10,
   "metadata": {},
   "outputs": [],
   "source": [
    "from sklearn.preprocessing import StandardScaler\n",
    "\n",
    "x = df.iloc[:, :-1].values\n",
    "y = df.loc[:,['labels']].values\n",
    "\n",
    "x = StandardScaler().fit_transform(x)"
   ]
  },
  {
   "cell_type": "code",
   "execution_count": 11,
   "metadata": {},
   "outputs": [],
   "source": [
    "from sklearn.decomposition import PCA\n",
    "\n",
    "pca = PCA(n_components=2)\n",
    "principalComponents = pca.fit_transform(x)\n",
    "df_pca = pd.DataFrame(data = principalComponents, columns = ['principal component 1', 'principal component 2'])"
   ]
  },
  {
   "cell_type": "code",
   "execution_count": 12,
   "metadata": {},
   "outputs": [
    {
     "data": {
      "text/plain": [
       "array([0.00808732, 0.00516874])"
      ]
     },
     "execution_count": 12,
     "metadata": {},
     "output_type": "execute_result"
    }
   ],
   "source": [
    "pca.explained_variance_ratio_"
   ]
  },
  {
   "cell_type": "code",
   "execution_count": 13,
   "metadata": {},
   "outputs": [],
   "source": [
    "df_pca_final = pd.concat([df_pca, df[['labels']]], axis = 1)"
   ]
  },
  {
   "cell_type": "code",
   "execution_count": 14,
   "metadata": {},
   "outputs": [
    {
     "data": {
      "text/plain": [
       "<Figure size 432x288 with 0 Axes>"
      ]
     },
     "execution_count": 14,
     "metadata": {},
     "output_type": "execute_result"
    },
    {
     "data": {
      "text/plain": [
       "<Figure size 720x720 with 0 Axes>"
      ]
     },
     "execution_count": 14,
     "metadata": {},
     "output_type": "execute_result"
    },
    {
     "data": {
      "text/plain": [
       "<matplotlib.collections.PathCollection at 0x7ffc87ac6dc0>"
      ]
     },
     "execution_count": 14,
     "metadata": {},
     "output_type": "execute_result"
    },
    {
     "data": {
      "text/plain": [
       "<matplotlib.collections.PathCollection at 0x7ffca3ecb400>"
      ]
     },
     "execution_count": 14,
     "metadata": {},
     "output_type": "execute_result"
    },
    {
     "data": {
      "text/plain": [
       "<matplotlib.collections.PathCollection at 0x7ffb9ebac1c0>"
      ]
     },
     "execution_count": 14,
     "metadata": {},
     "output_type": "execute_result"
    },
    {
     "data": {
      "text/plain": [
       "<matplotlib.legend.Legend at 0x7ffc9df0f7f0>"
      ]
     },
     "execution_count": 14,
     "metadata": {},
     "output_type": "execute_result"
    },
    {
     "data": {
      "text/plain": [
       "Text(0.5, 0, 'Principal Component 1')"
      ]
     },
     "execution_count": 14,
     "metadata": {},
     "output_type": "execute_result"
    },
    {
     "data": {
      "text/plain": [
       "Text(0, 0.5, 'Principal Component 2')"
      ]
     },
     "execution_count": 14,
     "metadata": {},
     "output_type": "execute_result"
    },
    {
     "data": {
      "text/plain": [
       "Text(0.5, 1.0, 'PCA : 2 components')"
      ]
     },
     "execution_count": 14,
     "metadata": {},
     "output_type": "execute_result"
    },
    {
     "data": {
      "text/plain": [
       "<Figure size 432x288 with 0 Axes>"
      ]
     },
     "metadata": {},
     "output_type": "display_data"
    },
    {
     "data": {
      "image/png": "[encoded data removed]",
      "text/plain": [
       "<Figure size 720x720 with 1 Axes>"
      ]
     },
     "metadata": {
      "needs_background": "light"
     },
     "output_type": "display_data"
    }
   ],
   "source": [
    "plt.figure()\n",
    "plt.figure(figsize=(10,10))\n",
    "\n",
    "labels = ['CBP', 'KAT5', 'eGFP']\n",
    "colors = ['r', 'g', 'b']\n",
    "for label, color in zip(labels,colors):\n",
    "    indicesToKeep = df_pca_final['labels'] == label\n",
    "    plt.scatter(df_pca_final.loc[indicesToKeep, 'principal component 1'], df_pca_final.loc[indicesToKeep, 'principal component 2'], c = color, s = 25)\n",
    "plt.legend(labels)\n",
    "plt.xlabel('Principal Component 1')\n",
    "plt.ylabel('Principal Component 2')\n",
    "plt.title('PCA : 2 components')\n",
    "plt.show()"
   ]
  },
  {
   "cell_type": "code",
   "execution_count": 15,
   "metadata": {},
   "outputs": [
    {
     "data": {
      "text/plain": [
       "array([0.00808732, 0.00516874])"
      ]
     },
     "execution_count": 15,
     "metadata": {},
     "output_type": "execute_result"
    }
   ],
   "source": [
    "pca.explained_variance_ratio_\n",
    "#very low explained variance with 2 components..."
   ]
  },
  {
   "cell_type": "code",
   "execution_count": 16,
   "metadata": {},
   "outputs": [],
   "source": [
    "#same with df_filtered"
   ]
  },
  {
   "cell_type": "code",
   "execution_count": 17,
   "metadata": {},
   "outputs": [
    {
     "data": {
      "text/plain": [
       "<Figure size 432x288 with 0 Axes>"
      ]
     },
     "execution_count": 17,
     "metadata": {},
     "output_type": "execute_result"
    },
    {
     "data": {
      "text/plain": [
       "<Figure size 720x720 with 0 Axes>"
      ]
     },
     "execution_count": 17,
     "metadata": {},
     "output_type": "execute_result"
    },
    {
     "data": {
      "text/plain": [
       "<matplotlib.collections.PathCollection at 0x7ffc3e98efa0>"
      ]
     },
     "execution_count": 17,
     "metadata": {},
     "output_type": "execute_result"
    },
    {
     "data": {
      "text/plain": [
       "<matplotlib.collections.PathCollection at 0x7ffbaa61b0a0>"
      ]
     },
     "execution_count": 17,
     "metadata": {},
     "output_type": "execute_result"
    },
    {
     "data": {
      "text/plain": [
       "<matplotlib.collections.PathCollection at 0x7ffbaa61b3a0>"
      ]
     },
     "execution_count": 17,
     "metadata": {},
     "output_type": "execute_result"
    },
    {
     "data": {
      "text/plain": [
       "<matplotlib.legend.Legend at 0x7ffbaa63fe50>"
      ]
     },
     "execution_count": 17,
     "metadata": {},
     "output_type": "execute_result"
    },
    {
     "data": {
      "text/plain": [
       "Text(0.5, 0, 'Principal Component 1')"
      ]
     },
     "execution_count": 17,
     "metadata": {},
     "output_type": "execute_result"
    },
    {
     "data": {
      "text/plain": [
       "Text(0, 0.5, 'Principal Component 2')"
      ]
     },
     "execution_count": 17,
     "metadata": {},
     "output_type": "execute_result"
    },
    {
     "data": {
      "text/plain": [
       "Text(0.5, 1.0, 'PCA : 2 components')"
      ]
     },
     "execution_count": 17,
     "metadata": {},
     "output_type": "execute_result"
    },
    {
     "data": {
      "text/plain": [
       "<Figure size 432x288 with 0 Axes>"
      ]
     },
     "metadata": {},
     "output_type": "display_data"
    },
    {
     "data": {
      "image/png": "[encoded data removed]",
      "text/plain": [
       "<Figure size 720x720 with 1 Axes>"
      ]
     },
     "metadata": {
      "needs_background": "light"
     },
     "output_type": "display_data"
    }
   ],
   "source": [
    "x = df_filtered.iloc[:, :-1].values\n",
    "y = df_filtered.loc[:,['labels']].values\n",
    "\n",
    "x = StandardScaler().fit_transform(x)\n",
    "\n",
    "pca = PCA(n_components=2)\n",
    "principalComponents = pca.fit_transform(x)\n",
    "df_pca = pd.DataFrame(data = principalComponents, columns = ['principal component 1', 'principal component 2'])\n",
    "\n",
    "df_pca_final = pd.concat([df_pca, df[['labels']]], axis = 1)\n",
    "\n",
    "plt.figure()\n",
    "plt.figure(figsize=(10,10))\n",
    "\n",
    "labels = ['CBP', 'KAT5', 'eGFP']\n",
    "colors = ['r', 'g', 'b']\n",
    "for label, color in zip(labels,colors):\n",
    "    indicesToKeep = df_pca_final['labels'] == label\n",
    "    plt.scatter(df_pca_final.loc[indicesToKeep, 'principal component 1'], df_pca_final.loc[indicesToKeep, 'principal component 2'], c = color, s = 25)\n",
    "plt.legend(labels)\n",
    "plt.xlabel('Principal Component 1')\n",
    "plt.ylabel('Principal Component 2')\n",
    "plt.title('PCA : 2 components')\n",
    "plt.show()"
   ]
  },
  {
   "cell_type": "markdown",
   "metadata": {},
   "source": [
    "### Method 1 : Multinomial Logistic Regression"
   ]
  },
  {
   "cell_type": "code",
   "execution_count": 18,
   "metadata": {},
   "outputs": [],
   "source": [
    "from sklearn.model_selection import train_test_split\n",
    "from sklearn.metrics import confusion_matrix\n",
    "from sklearn.linear_model import LogisticRegression"
   ]
  },
  {
   "cell_type": "code",
   "execution_count": 19,
   "metadata": {},
   "outputs": [],
   "source": [
    "X = df_filtered.iloc[:,:-1].values\n",
    "y = df_filtered['labels'].values\n",
    "\n",
    "X = StandardScaler().fit_transform(x)\n",
    "\n",
    "X_train, X_test, y_train, y_test = train_test_split(X, y, test_size = 0.2, random_state=0)"
   ]
  },
  {
   "cell_type": "code",
   "execution_count": 20,
   "metadata": {},
   "outputs": [
    {
     "data": {
      "text/plain": [
       "((4000, 9137), (1000,))"
      ]
     },
     "execution_count": 20,
     "metadata": {},
     "output_type": "execute_result"
    }
   ],
   "source": [
    "X_train.shape, y_test.shape"
   ]
  },
  {
   "cell_type": "code",
   "execution_count": 24,
   "metadata": {},
   "outputs": [
    {
     "name": "stderr",
     "output_type": "stream",
     "text": [
      "/Users/leagoffinet/opt/anaconda3/lib/python3.9/site-packages/sklearn/linear_model/_sag.py:328: ConvergenceWarning: The max_iter was reached which means the coef_ did not converge\n",
      "  warnings.warn(\"The max_iter was reached which means \"\n"
     ]
    },
    {
     "data": {
      "text/plain": [
       "LogisticRegression(multi_class='multinomial', solver='saga')"
      ]
     },
     "execution_count": 24,
     "metadata": {},
     "output_type": "execute_result"
    }
   ],
   "source": [
    "\n",
    "classifier = LogisticRegression(multi_class='multinomial',solver ='saga')\n",
    "classifier.fit(X_train, y_train) "
   ]
  },
  {
   "cell_type": "code",
   "execution_count": 25,
   "metadata": {},
   "outputs": [],
   "source": [
    "y_pred = classifier.predict(X_test)"
   ]
  },
  {
   "cell_type": "code",
   "execution_count": 26,
   "metadata": {},
   "outputs": [],
   "source": [
    "cm = confusion_matrix(y_test, y_pred)\n"
   ]
  },
  {
   "cell_type": "code",
   "execution_count": 27,
   "metadata": {},
   "outputs": [
    {
     "data": {
      "image/png": "[encoded data removed]",
      "text/plain": [
       "<Figure size 432x288 with 2 Axes>"
      ]
     },
     "metadata": {
      "needs_background": "light"
     },
     "output_type": "display_data"
    }
   ],
   "source": [
    "def plot_confusion_matrix(cm, classes, normalized=True, cmap='bone'):\n",
    "    norm_cm = cm\n",
    "    if normalized:\n",
    "        norm_cm = cm.astype('float') / cm.sum(axis=1)[:, np.newaxis]\n",
    "        sns.heatmap(norm_cm, annot=cm, fmt='g', xticklabels=classes, yticklabels=classes, cmap=cmap)\n",
    "\n",
    "plot_confusion_matrix(cm, ['KAT5', 'CBP', 'eGFP'])"
   ]
  },
  {
   "cell_type": "code",
   "execution_count": 28,
   "metadata": {},
   "outputs": [
    {
     "data": {
      "text/plain": [
       "0.901"
      ]
     },
     "execution_count": 28,
     "metadata": {},
     "output_type": "execute_result"
    }
   ],
   "source": [
    "classifier.score(X_test, y_test)"
   ]
  },
  {
   "cell_type": "code",
   "execution_count": null,
   "metadata": {},
   "outputs": [],
   "source": []
  },
  {
   "cell_type": "markdown",
   "metadata": {},
   "source": [
    "### Method 2 : Multiple linear regression with L1 regularization"
   ]
  },
  {
   "cell_type": "code",
   "execution_count": null,
   "metadata": {},
   "outputs": [],
   "source": [
    "#mmmmm Logistic is so good, I'm not sure it's worth it to let multiple linear regression, ?"
   ]
  },
  {
   "cell_type": "code",
   "execution_count": 57,
   "metadata": {},
   "outputs": [],
   "source": [
    "from sklearn.linear_model import LinearRegression\n",
    "from sklearn.metrics import mean_squared_error, mean_absolute_error\n",
    "from sklearn import preprocessing\n",
    "from sklearn.preprocessing import LabelEncoder\n",
    "from sklearn.linear_model import Lasso"
   ]
  },
  {
   "cell_type": "code",
   "execution_count": 47,
   "metadata": {},
   "outputs": [],
   "source": [
    "X = df_filtered.iloc[:,:-1]\n",
    "y = df_filtered['labels']\n",
    "\n",
    "label_encoder = LabelEncoder()\n",
    "y = label_encoder.fit_transform(y)"
   ]
  },
  {
   "cell_type": "code",
   "execution_count": 48,
   "metadata": {},
   "outputs": [
    {
     "data": {
      "text/plain": [
       "LinearRegression()"
      ]
     },
     "execution_count": 48,
     "metadata": {},
     "output_type": "execute_result"
    },
    {
     "name": "stdout",
     "output_type": "stream",
     "text": [
      "0.7385210024089912\n"
     ]
    }
   ],
   "source": [
    "X_train, X_test, y_train, y_test = train_test_split(X, y, test_size=0.2, stratify = y)\n",
    "  \n",
    "# Splitting the data into training and testing data\n",
    "model = LinearRegression()\n",
    "  \n",
    "model.fit(X_train,y_train)\n",
    "print(model.score(X_test, y_test))"
   ]
  },
  {
   "cell_type": "code",
   "execution_count": 49,
   "metadata": {},
   "outputs": [],
   "source": [
    "y_pred = model.predict(X_test)"
   ]
  },
  {
   "cell_type": "code",
   "execution_count": 41,
   "metadata": {},
   "outputs": [],
   "source": [
    "#y_test"
   ]
  },
  {
   "cell_type": "code",
   "execution_count": 42,
   "metadata": {},
   "outputs": [],
   "source": [
    "#cm = confusion_matrix(y_test, y_pred)\n",
    "#plot_confusion_matrix(cm, ['KAT5', 'CBP', 'eGFP'])"
   ]
  },
  {
   "cell_type": "code",
   "execution_count": 50,
   "metadata": {},
   "outputs": [
    {
     "data": {
      "text/html": [
       "<div>\n",
       "<style scoped>\n",
       "    .dataframe tbody tr th:only-of-type {\n",
       "        vertical-align: middle;\n",
       "    }\n",
       "\n",
       "    .dataframe tbody tr th {\n",
       "        vertical-align: top;\n",
       "    }\n",
       "\n",
       "    .dataframe thead th {\n",
       "        text-align: right;\n",
       "    }\n",
       "</style>\n",
       "<table border=\"1\" class=\"dataframe\">\n",
       "  <thead>\n",
       "    <tr style=\"text-align: right;\">\n",
       "      <th></th>\n",
       "      <th>Xkr4</th>\n",
       "      <th>Gm19938</th>\n",
       "      <th>Mrpl15</th>\n",
       "      <th>Lypla1</th>\n",
       "      <th>Tcea1</th>\n",
       "      <th>Rgs20</th>\n",
       "      <th>Atp6v1h</th>\n",
       "      <th>Rb1cc1</th>\n",
       "      <th>Pcmtd1</th>\n",
       "      <th>Gm26901</th>\n",
       "      <th>...</th>\n",
       "      <th>mt-Atp6</th>\n",
       "      <th>mt-Co3</th>\n",
       "      <th>mt-Nd3</th>\n",
       "      <th>mt-Nd4</th>\n",
       "      <th>mt-Nd5</th>\n",
       "      <th>mt-Cytb</th>\n",
       "      <th>CAAA01118383.1</th>\n",
       "      <th>Vamp7</th>\n",
       "      <th>Tmlhe</th>\n",
       "      <th>AC149090.1</th>\n",
       "    </tr>\n",
       "  </thead>\n",
       "  <tbody>\n",
       "    <tr>\n",
       "      <th>1554</th>\n",
       "      <td>2.422675</td>\n",
       "      <td>0.903407</td>\n",
       "      <td>0.0</td>\n",
       "      <td>0.000000</td>\n",
       "      <td>1.163775</td>\n",
       "      <td>1.687138</td>\n",
       "      <td>1.370164</td>\n",
       "      <td>0.000000</td>\n",
       "      <td>1.927454</td>\n",
       "      <td>0.550430</td>\n",
       "      <td>...</td>\n",
       "      <td>0.550430</td>\n",
       "      <td>0.903407</td>\n",
       "      <td>0.000000</td>\n",
       "      <td>0.550430</td>\n",
       "      <td>0.000000</td>\n",
       "      <td>0.550430</td>\n",
       "      <td>0.550430</td>\n",
       "      <td>0.000000</td>\n",
       "      <td>0.000000</td>\n",
       "      <td>1.814498</td>\n",
       "    </tr>\n",
       "    <tr>\n",
       "      <th>3689</th>\n",
       "      <td>1.996102</td>\n",
       "      <td>0.000000</td>\n",
       "      <td>0.0</td>\n",
       "      <td>0.000000</td>\n",
       "      <td>0.951688</td>\n",
       "      <td>1.996102</td>\n",
       "      <td>0.951688</td>\n",
       "      <td>0.000000</td>\n",
       "      <td>1.996102</td>\n",
       "      <td>0.000000</td>\n",
       "      <td>...</td>\n",
       "      <td>1.752713</td>\n",
       "      <td>2.827360</td>\n",
       "      <td>0.951688</td>\n",
       "      <td>2.191697</td>\n",
       "      <td>0.951688</td>\n",
       "      <td>1.752713</td>\n",
       "      <td>0.000000</td>\n",
       "      <td>0.000000</td>\n",
       "      <td>0.000000</td>\n",
       "      <td>1.430349</td>\n",
       "    </tr>\n",
       "    <tr>\n",
       "      <th>1493</th>\n",
       "      <td>3.129821</td>\n",
       "      <td>0.647755</td>\n",
       "      <td>0.0</td>\n",
       "      <td>0.000000</td>\n",
       "      <td>0.375434</td>\n",
       "      <td>0.000000</td>\n",
       "      <td>1.317409</td>\n",
       "      <td>0.647755</td>\n",
       "      <td>1.187268</td>\n",
       "      <td>0.000000</td>\n",
       "      <td>...</td>\n",
       "      <td>0.000000</td>\n",
       "      <td>0.000000</td>\n",
       "      <td>0.000000</td>\n",
       "      <td>0.375434</td>\n",
       "      <td>0.000000</td>\n",
       "      <td>0.000000</td>\n",
       "      <td>0.000000</td>\n",
       "      <td>0.647755</td>\n",
       "      <td>0.000000</td>\n",
       "      <td>1.432547</td>\n",
       "    </tr>\n",
       "    <tr>\n",
       "      <th>2060</th>\n",
       "      <td>2.331880</td>\n",
       "      <td>0.000000</td>\n",
       "      <td>0.0</td>\n",
       "      <td>0.000000</td>\n",
       "      <td>0.573673</td>\n",
       "      <td>0.000000</td>\n",
       "      <td>0.573673</td>\n",
       "      <td>0.935916</td>\n",
       "      <td>1.583888</td>\n",
       "      <td>0.573673</td>\n",
       "      <td>...</td>\n",
       "      <td>0.000000</td>\n",
       "      <td>0.000000</td>\n",
       "      <td>0.000000</td>\n",
       "      <td>0.000000</td>\n",
       "      <td>0.000000</td>\n",
       "      <td>0.000000</td>\n",
       "      <td>0.000000</td>\n",
       "      <td>0.000000</td>\n",
       "      <td>0.573673</td>\n",
       "      <td>0.000000</td>\n",
       "    </tr>\n",
       "    <tr>\n",
       "      <th>547</th>\n",
       "      <td>2.319866</td>\n",
       "      <td>0.000000</td>\n",
       "      <td>0.0</td>\n",
       "      <td>0.000000</td>\n",
       "      <td>0.000000</td>\n",
       "      <td>0.000000</td>\n",
       "      <td>1.720470</td>\n",
       "      <td>2.064421</td>\n",
       "      <td>1.191975</td>\n",
       "      <td>1.191975</td>\n",
       "      <td>...</td>\n",
       "      <td>0.000000</td>\n",
       "      <td>0.000000</td>\n",
       "      <td>0.000000</td>\n",
       "      <td>0.000000</td>\n",
       "      <td>0.000000</td>\n",
       "      <td>0.000000</td>\n",
       "      <td>0.000000</td>\n",
       "      <td>0.000000</td>\n",
       "      <td>0.000000</td>\n",
       "      <td>1.720470</td>\n",
       "    </tr>\n",
       "    <tr>\n",
       "      <th>...</th>\n",
       "      <td>...</td>\n",
       "      <td>...</td>\n",
       "      <td>...</td>\n",
       "      <td>...</td>\n",
       "      <td>...</td>\n",
       "      <td>...</td>\n",
       "      <td>...</td>\n",
       "      <td>...</td>\n",
       "      <td>...</td>\n",
       "      <td>...</td>\n",
       "      <td>...</td>\n",
       "      <td>...</td>\n",
       "      <td>...</td>\n",
       "      <td>...</td>\n",
       "      <td>...</td>\n",
       "      <td>...</td>\n",
       "      <td>...</td>\n",
       "      <td>...</td>\n",
       "      <td>...</td>\n",
       "      <td>...</td>\n",
       "      <td>...</td>\n",
       "    </tr>\n",
       "    <tr>\n",
       "      <th>1051</th>\n",
       "      <td>3.389573</td>\n",
       "      <td>0.000000</td>\n",
       "      <td>0.0</td>\n",
       "      <td>0.000000</td>\n",
       "      <td>0.000000</td>\n",
       "      <td>0.000000</td>\n",
       "      <td>0.000000</td>\n",
       "      <td>2.099651</td>\n",
       "      <td>0.000000</td>\n",
       "      <td>0.000000</td>\n",
       "      <td>...</td>\n",
       "      <td>0.000000</td>\n",
       "      <td>0.000000</td>\n",
       "      <td>0.000000</td>\n",
       "      <td>2.099651</td>\n",
       "      <td>0.000000</td>\n",
       "      <td>0.000000</td>\n",
       "      <td>0.000000</td>\n",
       "      <td>0.000000</td>\n",
       "      <td>0.000000</td>\n",
       "      <td>3.113069</td>\n",
       "    </tr>\n",
       "    <tr>\n",
       "      <th>4269</th>\n",
       "      <td>2.673630</td>\n",
       "      <td>0.418014</td>\n",
       "      <td>0.0</td>\n",
       "      <td>0.418014</td>\n",
       "      <td>0.418014</td>\n",
       "      <td>0.938766</td>\n",
       "      <td>1.123554</td>\n",
       "      <td>1.123554</td>\n",
       "      <td>1.735272</td>\n",
       "      <td>0.711911</td>\n",
       "      <td>...</td>\n",
       "      <td>0.418014</td>\n",
       "      <td>0.000000</td>\n",
       "      <td>0.000000</td>\n",
       "      <td>0.711911</td>\n",
       "      <td>0.000000</td>\n",
       "      <td>0.418014</td>\n",
       "      <td>0.000000</td>\n",
       "      <td>0.418014</td>\n",
       "      <td>0.000000</td>\n",
       "      <td>1.533116</td>\n",
       "    </tr>\n",
       "    <tr>\n",
       "      <th>767</th>\n",
       "      <td>2.516502</td>\n",
       "      <td>0.000000</td>\n",
       "      <td>0.0</td>\n",
       "      <td>0.000000</td>\n",
       "      <td>0.000000</td>\n",
       "      <td>1.567588</td>\n",
       "      <td>0.000000</td>\n",
       "      <td>1.567588</td>\n",
       "      <td>0.000000</td>\n",
       "      <td>1.567588</td>\n",
       "      <td>...</td>\n",
       "      <td>0.000000</td>\n",
       "      <td>0.000000</td>\n",
       "      <td>0.000000</td>\n",
       "      <td>1.567588</td>\n",
       "      <td>0.000000</td>\n",
       "      <td>1.567588</td>\n",
       "      <td>0.000000</td>\n",
       "      <td>0.000000</td>\n",
       "      <td>0.000000</td>\n",
       "      <td>2.150614</td>\n",
       "    </tr>\n",
       "    <tr>\n",
       "      <th>1030</th>\n",
       "      <td>0.000000</td>\n",
       "      <td>0.000000</td>\n",
       "      <td>0.0</td>\n",
       "      <td>0.000000</td>\n",
       "      <td>0.000000</td>\n",
       "      <td>1.857827</td>\n",
       "      <td>0.000000</td>\n",
       "      <td>0.000000</td>\n",
       "      <td>1.857827</td>\n",
       "      <td>0.000000</td>\n",
       "      <td>...</td>\n",
       "      <td>0.000000</td>\n",
       "      <td>0.000000</td>\n",
       "      <td>0.000000</td>\n",
       "      <td>0.000000</td>\n",
       "      <td>0.000000</td>\n",
       "      <td>0.000000</td>\n",
       "      <td>0.855456</td>\n",
       "      <td>0.000000</td>\n",
       "      <td>0.000000</td>\n",
       "      <td>2.675835</td>\n",
       "    </tr>\n",
       "    <tr>\n",
       "      <th>3465</th>\n",
       "      <td>2.511192</td>\n",
       "      <td>0.626333</td>\n",
       "      <td>0.0</td>\n",
       "      <td>0.000000</td>\n",
       "      <td>0.000000</td>\n",
       "      <td>0.000000</td>\n",
       "      <td>0.626333</td>\n",
       "      <td>1.284322</td>\n",
       "      <td>1.592968</td>\n",
       "      <td>0.361422</td>\n",
       "      <td>...</td>\n",
       "      <td>0.000000</td>\n",
       "      <td>0.000000</td>\n",
       "      <td>0.000000</td>\n",
       "      <td>0.000000</td>\n",
       "      <td>0.000000</td>\n",
       "      <td>0.000000</td>\n",
       "      <td>0.000000</td>\n",
       "      <td>0.000000</td>\n",
       "      <td>0.626333</td>\n",
       "      <td>1.008497</td>\n",
       "    </tr>\n",
       "  </tbody>\n",
       "</table>\n",
       "<p>4000 rows × 9137 columns</p>\n",
       "</div>"
      ],
      "text/plain": [
       "          Xkr4   Gm19938  Mrpl15    Lypla1     Tcea1     Rgs20   Atp6v1h  \\\n",
       "1554  2.422675  0.903407     0.0  0.000000  1.163775  1.687138  1.370164   \n",
       "3689  1.996102  0.000000     0.0  0.000000  0.951688  1.996102  0.951688   \n",
       "1493  3.129821  0.647755     0.0  0.000000  0.375434  0.000000  1.317409   \n",
       "2060  2.331880  0.000000     0.0  0.000000  0.573673  0.000000  0.573673   \n",
       "547   2.319866  0.000000     0.0  0.000000  0.000000  0.000000  1.720470   \n",
       "...        ...       ...     ...       ...       ...       ...       ...   \n",
       "1051  3.389573  0.000000     0.0  0.000000  0.000000  0.000000  0.000000   \n",
       "4269  2.673630  0.418014     0.0  0.418014  0.418014  0.938766  1.123554   \n",
       "767   2.516502  0.000000     0.0  0.000000  0.000000  1.567588  0.000000   \n",
       "1030  0.000000  0.000000     0.0  0.000000  0.000000  1.857827  0.000000   \n",
       "3465  2.511192  0.626333     0.0  0.000000  0.000000  0.000000  0.626333   \n",
       "\n",
       "        Rb1cc1    Pcmtd1   Gm26901  ...   mt-Atp6    mt-Co3    mt-Nd3  \\\n",
       "1554  0.000000  1.927454  0.550430  ...  0.550430  0.903407  0.000000   \n",
       "3689  0.000000  1.996102  0.000000  ...  1.752713  2.827360  0.951688   \n",
       "1493  0.647755  1.187268  0.000000  ...  0.000000  0.000000  0.000000   \n",
       "2060  0.935916  1.583888  0.573673  ...  0.000000  0.000000  0.000000   \n",
       "547   2.064421  1.191975  1.191975  ...  0.000000  0.000000  0.000000   \n",
       "...        ...       ...       ...  ...       ...       ...       ...   \n",
       "1051  2.099651  0.000000  0.000000  ...  0.000000  0.000000  0.000000   \n",
       "4269  1.123554  1.735272  0.711911  ...  0.418014  0.000000  0.000000   \n",
       "767   1.567588  0.000000  1.567588  ...  0.000000  0.000000  0.000000   \n",
       "1030  0.000000  1.857827  0.000000  ...  0.000000  0.000000  0.000000   \n",
       "3465  1.284322  1.592968  0.361422  ...  0.000000  0.000000  0.000000   \n",
       "\n",
       "        mt-Nd4    mt-Nd5   mt-Cytb  CAAA01118383.1     Vamp7     Tmlhe  \\\n",
       "1554  0.550430  0.000000  0.550430        0.550430  0.000000  0.000000   \n",
       "3689  2.191697  0.951688  1.752713        0.000000  0.000000  0.000000   \n",
       "1493  0.375434  0.000000  0.000000        0.000000  0.647755  0.000000   \n",
       "2060  0.000000  0.000000  0.000000        0.000000  0.000000  0.573673   \n",
       "547   0.000000  0.000000  0.000000        0.000000  0.000000  0.000000   \n",
       "...        ...       ...       ...             ...       ...       ...   \n",
       "1051  2.099651  0.000000  0.000000        0.000000  0.000000  0.000000   \n",
       "4269  0.711911  0.000000  0.418014        0.000000  0.418014  0.000000   \n",
       "767   1.567588  0.000000  1.567588        0.000000  0.000000  0.000000   \n",
       "1030  0.000000  0.000000  0.000000        0.855456  0.000000  0.000000   \n",
       "3465  0.000000  0.000000  0.000000        0.000000  0.000000  0.626333   \n",
       "\n",
       "      AC149090.1  \n",
       "1554    1.814498  \n",
       "3689    1.430349  \n",
       "1493    1.432547  \n",
       "2060    0.000000  \n",
       "547     1.720470  \n",
       "...          ...  \n",
       "1051    3.113069  \n",
       "4269    1.533116  \n",
       "767     2.150614  \n",
       "1030    2.675835  \n",
       "3465    1.008497  \n",
       "\n",
       "[4000 rows x 9137 columns]"
      ]
     },
     "execution_count": 50,
     "metadata": {},
     "output_type": "execute_result"
    }
   ],
   "source": [
    "X_train"
   ]
  },
  {
   "cell_type": "code",
   "execution_count": 63,
   "metadata": {},
   "outputs": [
    {
     "data": {
      "text/html": [
       "<div>\n",
       "<style scoped>\n",
       "    .dataframe tbody tr th:only-of-type {\n",
       "        vertical-align: middle;\n",
       "    }\n",
       "\n",
       "    .dataframe tbody tr th {\n",
       "        vertical-align: top;\n",
       "    }\n",
       "\n",
       "    .dataframe thead th {\n",
       "        text-align: right;\n",
       "    }\n",
       "</style>\n",
       "<table border=\"1\" class=\"dataframe\">\n",
       "  <thead>\n",
       "    <tr style=\"text-align: right;\">\n",
       "      <th></th>\n",
       "      <th>gene</th>\n",
       "      <th>coeffcient</th>\n",
       "    </tr>\n",
       "  </thead>\n",
       "  <tbody>\n",
       "    <tr>\n",
       "      <th>9132</th>\n",
       "      <td>mt-Cytb</td>\n",
       "      <td>0.006682</td>\n",
       "    </tr>\n",
       "    <tr>\n",
       "      <th>9133</th>\n",
       "      <td>CAAA01118383.1</td>\n",
       "      <td>0.015046</td>\n",
       "    </tr>\n",
       "    <tr>\n",
       "      <th>9134</th>\n",
       "      <td>Vamp7</td>\n",
       "      <td>0.000784</td>\n",
       "    </tr>\n",
       "    <tr>\n",
       "      <th>9135</th>\n",
       "      <td>Tmlhe</td>\n",
       "      <td>0.008704</td>\n",
       "    </tr>\n",
       "    <tr>\n",
       "      <th>9136</th>\n",
       "      <td>AC149090.1</td>\n",
       "      <td>0.041721</td>\n",
       "    </tr>\n",
       "  </tbody>\n",
       "</table>\n",
       "</div>"
      ],
      "text/plain": [
       "                gene  coeffcient\n",
       "9132         mt-Cytb    0.006682\n",
       "9133  CAAA01118383.1    0.015046\n",
       "9134           Vamp7    0.000784\n",
       "9135           Tmlhe    0.008704\n",
       "9136      AC149090.1    0.041721"
      ]
     },
     "execution_count": 63,
     "metadata": {},
     "output_type": "execute_result"
    }
   ],
   "source": [
    "coeffs = pd.DataFrame()\n",
    "coeffs['gene'] = X_train.columns\n",
    "coeffs['coeffcient'] = pd.Series(model.coef_)\n",
    "coeffs.tail()"
   ]
  },
  {
   "cell_type": "code",
   "execution_count": 56,
   "metadata": {},
   "outputs": [
    {
     "name": "stdout",
     "output_type": "stream",
     "text": [
      "0.17947892246747094\n"
     ]
    }
   ],
   "source": [
    "mean_squared_error_ridge = np.mean((y_pred - y_test)**2)\n",
    "print(mean_squared_error_ridge)"
   ]
  },
  {
   "cell_type": "code",
   "execution_count": 58,
   "metadata": {},
   "outputs": [
    {
     "data": {
      "text/plain": [
       "Lasso(alpha=1)"
      ]
     },
     "execution_count": 58,
     "metadata": {},
     "output_type": "execute_result"
    }
   ],
   "source": [
    "lasso = Lasso(alpha = 1)\n",
    "lasso.fit(X_train, y_train)\n",
    "y_pred1 = lasso.predict(X_test)"
   ]
  },
  {
   "cell_type": "code",
   "execution_count": 59,
   "metadata": {},
   "outputs": [
    {
     "name": "stdout",
     "output_type": "stream",
     "text": [
      "Mean squared error on test set 0.6864005625\n"
     ]
    }
   ],
   "source": [
    "mean_squared_error = np.mean((y_pred1 - y_test)**2)\n",
    "print(\"Mean squared error on test set\", mean_squared_error)"
   ]
  },
  {
   "cell_type": "code",
   "execution_count": 62,
   "metadata": {},
   "outputs": [
    {
     "data": {
      "text/html": [
       "<div>\n",
       "<style scoped>\n",
       "    .dataframe tbody tr th:only-of-type {\n",
       "        vertical-align: middle;\n",
       "    }\n",
       "\n",
       "    .dataframe tbody tr th {\n",
       "        vertical-align: top;\n",
       "    }\n",
       "\n",
       "    .dataframe thead th {\n",
       "        text-align: right;\n",
       "    }\n",
       "</style>\n",
       "<table border=\"1\" class=\"dataframe\">\n",
       "  <thead>\n",
       "    <tr style=\"text-align: right;\">\n",
       "      <th></th>\n",
       "      <th>gene_column_headers</th>\n",
       "      <th>coefficient</th>\n",
       "    </tr>\n",
       "  </thead>\n",
       "  <tbody>\n",
       "    <tr>\n",
       "      <th>0</th>\n",
       "      <td>Xkr4</td>\n",
       "      <td>0.0</td>\n",
       "    </tr>\n",
       "    <tr>\n",
       "      <th>1</th>\n",
       "      <td>Gm19938</td>\n",
       "      <td>0.0</td>\n",
       "    </tr>\n",
       "    <tr>\n",
       "      <th>2</th>\n",
       "      <td>Mrpl15</td>\n",
       "      <td>-0.0</td>\n",
       "    </tr>\n",
       "    <tr>\n",
       "      <th>3</th>\n",
       "      <td>Lypla1</td>\n",
       "      <td>0.0</td>\n",
       "    </tr>\n",
       "    <tr>\n",
       "      <th>4</th>\n",
       "      <td>Tcea1</td>\n",
       "      <td>0.0</td>\n",
       "    </tr>\n",
       "  </tbody>\n",
       "</table>\n",
       "</div>"
      ],
      "text/plain": [
       "  gene_column_headers  coefficient\n",
       "0                Xkr4          0.0\n",
       "1             Gm19938          0.0\n",
       "2              Mrpl15         -0.0\n",
       "3              Lypla1          0.0\n",
       "4               Tcea1          0.0"
      ]
     },
     "execution_count": 62,
     "metadata": {},
     "output_type": "execute_result"
    }
   ],
   "source": [
    "lasso_coeff = pd.DataFrame()\n",
    "lasso_coeff['gene_column_headers'] = X_train.columns\n",
    "lasso_coeff['coefficient'] = pd.Series(lasso.coef_)\n",
    " \n",
    "lasso_coeff.head()"
   ]
  },
  {
   "cell_type": "markdown",
   "metadata": {},
   "source": [
    "## Method 3 XGBoost\n",
    "\n",
    "- Once with our filtered data\n",
    "- Also run with raw data to see if filtering has an effect"
   ]
  },
  {
   "cell_type": "code",
   "execution_count": 64,
   "metadata": {},
   "outputs": [],
   "source": [
    "from sklearn.metrics import accuracy_score, f1_score\n",
    "from sklearn.model_selection import GridSearchCV\n",
    "from xgboost.sklearn import XGBClassifier\n",
    "from sklearn.preprocessing import LabelEncoder\n",
    "from sklearn.metrics import classification_report"
   ]
  },
  {
   "cell_type": "code",
   "execution_count": 65,
   "metadata": {},
   "outputs": [],
   "source": [
    "# split into train and validation set using sklearn\n",
    "gene_column_headers_filtered = gene_column_headers[:-1]\n",
    "y = df_filtered['labels']\n",
    "X = df_filtered.iloc[:,:-1]\n",
    "\n",
    "# need to transform our labels from [KAT5, CBP, eGFP] -> [0,1,2] \n",
    "label_encoder = LabelEncoder()\n",
    "y = label_encoder.fit_transform(y)"
   ]
  },
  {
   "cell_type": "code",
   "execution_count": 66,
   "metadata": {},
   "outputs": [],
   "source": [
    "# perform a typical split\n",
    "X_train, X_val, y_train, y_val = train_test_split(X, y, test_size=0.2, stratify = y)\n",
    "\n",
    "training_data = {'X_train':X_train,'y_train':y_train,\n",
    "                'X_test': X_val,'y_test':y_val}"
   ]
  },
  {
   "cell_type": "code",
   "execution_count": 67,
   "metadata": {},
   "outputs": [
    {
     "data": {
      "text/plain": [
       "(4000, 9137)"
      ]
     },
     "execution_count": 67,
     "metadata": {},
     "output_type": "execute_result"
    }
   ],
   "source": [
    "X_train.shape"
   ]
  },
  {
   "cell_type": "code",
   "execution_count": 68,
   "metadata": {},
   "outputs": [
    {
     "data": {
      "text/plain": [
       "(4000,)"
      ]
     },
     "execution_count": 68,
     "metadata": {},
     "output_type": "execute_result"
    }
   ],
   "source": [
    "y_train.shape"
   ]
  },
  {
   "cell_type": "code",
   "execution_count": 69,
   "metadata": {},
   "outputs": [],
   "source": [
    "# fit function where it takes the sklearn and xgboost models and performs the boosted trees.\n",
    "# plots performance and accuracy as well\n",
    "\n",
    "def fit(model, training_data=training_data, epochs=300, label_gene = gene_column_headers_filtered):\n",
    "    # fitting to the sklearn model\n",
    "    print('Fitting model...')\n",
    "    model.fit(training_data['X_train'], training_data['y_train'])\n",
    "    print('Fitting done!')\n",
    "\n",
    "    # fitting the xboost library model\n",
    "    train = xgb.DMatrix(training_data['X_train'], label=training_data['y_train'])\n",
    "    test = xgb.DMatrix(training_data['X_test'], label=training_data['y_test'])\n",
    "    params = model.get_xgb_params()\n",
    "    metrics = ['mlogloss','merror']\n",
    "    params['eval_metric'] = metrics\n",
    "    evaluation = {}\n",
    "    evallist = [(test, 'test'),(train,'train')]\n",
    "    xgb_model = xgb.train(params, train, epochs, evallist, evals_result=evaluation,verbose_eval=100)\n",
    "\n",
    "    # Model reports\n",
    "    print('-- Model Report --')\n",
    "    print('XGBoost Accuracy: '+str(accuracy_score(model.predict(training_data['X_test']), training_data['y_test'])))\n",
    "    print('XGBoost F1-Score: '+str(f1_score(model.predict(training_data['X_test']),training_data['y_test'], average='micro')))\n",
    "    \n",
    "    # plotting the error curves for our loss functions\n",
    "    for m in metrics:\n",
    "        test_score = evaluation['test'][m]\n",
    "        train_score = evaluation['train'][m]\n",
    "        x = range(0, epochs)\n",
    "        plt.rcParams[\"figure.figsize\"] = [6,6]\n",
    "        plt.plot(x, test_score, label=\"Test\")\n",
    "        plt.plot(x, train_score, label=\"Train\")\n",
    "        \n",
    "        title_name = m + \" plot\"\n",
    "        plt.title(title_name)\n",
    "        plt.xlabel('Epoch')\n",
    "        plt.ylabel(m)\n",
    "        lgd = plt.legend()\n",
    "        plt.show()\n",
    "    \n",
    "    # makes sure that the two array match so we can plot the feature importance\n",
    "    print(\"length of features list: {}\".format(len(gene_column_headers_filtered)))\n",
    "    print(\"length of feature importance vector {}\".format(len(model.feature_importances_)))\n",
    "\n",
    "    return xgb_model"
   ]
  },
  {
   "cell_type": "code",
   "execution_count": 70,
   "metadata": {},
   "outputs": [
    {
     "data": {
      "text/html": [
       "<div>\n",
       "<style scoped>\n",
       "    .dataframe tbody tr th:only-of-type {\n",
       "        vertical-align: middle;\n",
       "    }\n",
       "\n",
       "    .dataframe tbody tr th {\n",
       "        vertical-align: top;\n",
       "    }\n",
       "\n",
       "    .dataframe thead th {\n",
       "        text-align: right;\n",
       "    }\n",
       "</style>\n",
       "<table border=\"1\" class=\"dataframe\">\n",
       "  <thead>\n",
       "    <tr style=\"text-align: right;\">\n",
       "      <th></th>\n",
       "      <th>Xkr4</th>\n",
       "      <th>Gm19938</th>\n",
       "      <th>Mrpl15</th>\n",
       "      <th>Lypla1</th>\n",
       "      <th>Tcea1</th>\n",
       "      <th>Rgs20</th>\n",
       "      <th>Atp6v1h</th>\n",
       "      <th>Rb1cc1</th>\n",
       "      <th>Pcmtd1</th>\n",
       "      <th>Gm26901</th>\n",
       "      <th>...</th>\n",
       "      <th>mt-Atp6</th>\n",
       "      <th>mt-Co3</th>\n",
       "      <th>mt-Nd3</th>\n",
       "      <th>mt-Nd4</th>\n",
       "      <th>mt-Nd5</th>\n",
       "      <th>mt-Cytb</th>\n",
       "      <th>CAAA01118383.1</th>\n",
       "      <th>Vamp7</th>\n",
       "      <th>Tmlhe</th>\n",
       "      <th>AC149090.1</th>\n",
       "    </tr>\n",
       "  </thead>\n",
       "  <tbody>\n",
       "    <tr>\n",
       "      <th>448</th>\n",
       "      <td>2.753780</td>\n",
       "      <td>0.434709</td>\n",
       "      <td>0.000000</td>\n",
       "      <td>0.000000</td>\n",
       "      <td>1.314414</td>\n",
       "      <td>0.000000</td>\n",
       "      <td>1.314414</td>\n",
       "      <td>1.571029</td>\n",
       "      <td>0.434709</td>\n",
       "      <td>0.000000</td>\n",
       "      <td>...</td>\n",
       "      <td>1.450931</td>\n",
       "      <td>1.314414</td>\n",
       "      <td>0.736699</td>\n",
       "      <td>0.736699</td>\n",
       "      <td>0.434709</td>\n",
       "      <td>0.736699</td>\n",
       "      <td>0.000000</td>\n",
       "      <td>0.0</td>\n",
       "      <td>0.434709</td>\n",
       "      <td>1.571029</td>\n",
       "    </tr>\n",
       "    <tr>\n",
       "      <th>205</th>\n",
       "      <td>2.769547</td>\n",
       "      <td>0.000000</td>\n",
       "      <td>0.000000</td>\n",
       "      <td>0.000000</td>\n",
       "      <td>0.000000</td>\n",
       "      <td>0.000000</td>\n",
       "      <td>1.789056</td>\n",
       "      <td>0.000000</td>\n",
       "      <td>1.250446</td>\n",
       "      <td>0.000000</td>\n",
       "      <td>...</td>\n",
       "      <td>1.250446</td>\n",
       "      <td>1.250446</td>\n",
       "      <td>0.000000</td>\n",
       "      <td>0.000000</td>\n",
       "      <td>1.250446</td>\n",
       "      <td>1.789056</td>\n",
       "      <td>0.000000</td>\n",
       "      <td>0.0</td>\n",
       "      <td>0.000000</td>\n",
       "      <td>0.000000</td>\n",
       "    </tr>\n",
       "    <tr>\n",
       "      <th>1572</th>\n",
       "      <td>2.613316</td>\n",
       "      <td>0.000000</td>\n",
       "      <td>0.000000</td>\n",
       "      <td>0.000000</td>\n",
       "      <td>0.582363</td>\n",
       "      <td>0.947994</td>\n",
       "      <td>0.582363</td>\n",
       "      <td>0.582363</td>\n",
       "      <td>1.747735</td>\n",
       "      <td>0.000000</td>\n",
       "      <td>...</td>\n",
       "      <td>0.947994</td>\n",
       "      <td>0.000000</td>\n",
       "      <td>0.000000</td>\n",
       "      <td>0.000000</td>\n",
       "      <td>0.000000</td>\n",
       "      <td>0.000000</td>\n",
       "      <td>0.000000</td>\n",
       "      <td>0.0</td>\n",
       "      <td>0.000000</td>\n",
       "      <td>0.947994</td>\n",
       "    </tr>\n",
       "    <tr>\n",
       "      <th>4823</th>\n",
       "      <td>2.665872</td>\n",
       "      <td>0.000000</td>\n",
       "      <td>0.000000</td>\n",
       "      <td>0.670773</td>\n",
       "      <td>0.000000</td>\n",
       "      <td>0.000000</td>\n",
       "      <td>1.068668</td>\n",
       "      <td>0.670773</td>\n",
       "      <td>1.068668</td>\n",
       "      <td>0.670773</td>\n",
       "      <td>...</td>\n",
       "      <td>1.068668</td>\n",
       "      <td>1.068668</td>\n",
       "      <td>0.000000</td>\n",
       "      <td>0.000000</td>\n",
       "      <td>0.000000</td>\n",
       "      <td>0.000000</td>\n",
       "      <td>0.000000</td>\n",
       "      <td>0.0</td>\n",
       "      <td>0.000000</td>\n",
       "      <td>1.573395</td>\n",
       "    </tr>\n",
       "    <tr>\n",
       "      <th>2924</th>\n",
       "      <td>3.138023</td>\n",
       "      <td>0.588962</td>\n",
       "      <td>0.000000</td>\n",
       "      <td>0.337228</td>\n",
       "      <td>0.789900</td>\n",
       "      <td>0.588962</td>\n",
       "      <td>0.337228</td>\n",
       "      <td>0.789900</td>\n",
       "      <td>0.789900</td>\n",
       "      <td>0.000000</td>\n",
       "      <td>...</td>\n",
       "      <td>0.337228</td>\n",
       "      <td>0.588962</td>\n",
       "      <td>0.000000</td>\n",
       "      <td>0.337228</td>\n",
       "      <td>0.000000</td>\n",
       "      <td>0.588962</td>\n",
       "      <td>0.337228</td>\n",
       "      <td>0.0</td>\n",
       "      <td>0.337228</td>\n",
       "      <td>0.789900</td>\n",
       "    </tr>\n",
       "    <tr>\n",
       "      <th>...</th>\n",
       "      <td>...</td>\n",
       "      <td>...</td>\n",
       "      <td>...</td>\n",
       "      <td>...</td>\n",
       "      <td>...</td>\n",
       "      <td>...</td>\n",
       "      <td>...</td>\n",
       "      <td>...</td>\n",
       "      <td>...</td>\n",
       "      <td>...</td>\n",
       "      <td>...</td>\n",
       "      <td>...</td>\n",
       "      <td>...</td>\n",
       "      <td>...</td>\n",
       "      <td>...</td>\n",
       "      <td>...</td>\n",
       "      <td>...</td>\n",
       "      <td>...</td>\n",
       "      <td>...</td>\n",
       "      <td>...</td>\n",
       "      <td>...</td>\n",
       "    </tr>\n",
       "    <tr>\n",
       "      <th>4707</th>\n",
       "      <td>0.000000</td>\n",
       "      <td>0.000000</td>\n",
       "      <td>1.022448</td>\n",
       "      <td>0.000000</td>\n",
       "      <td>0.000000</td>\n",
       "      <td>3.550188</td>\n",
       "      <td>0.000000</td>\n",
       "      <td>1.022448</td>\n",
       "      <td>1.846875</td>\n",
       "      <td>0.000000</td>\n",
       "      <td>...</td>\n",
       "      <td>0.000000</td>\n",
       "      <td>1.022448</td>\n",
       "      <td>0.000000</td>\n",
       "      <td>0.000000</td>\n",
       "      <td>0.000000</td>\n",
       "      <td>0.000000</td>\n",
       "      <td>0.000000</td>\n",
       "      <td>0.0</td>\n",
       "      <td>0.000000</td>\n",
       "      <td>0.000000</td>\n",
       "    </tr>\n",
       "    <tr>\n",
       "      <th>2490</th>\n",
       "      <td>2.200992</td>\n",
       "      <td>0.000000</td>\n",
       "      <td>0.000000</td>\n",
       "      <td>0.000000</td>\n",
       "      <td>0.764402</td>\n",
       "      <td>0.764402</td>\n",
       "      <td>0.000000</td>\n",
       "      <td>1.491359</td>\n",
       "      <td>0.764402</td>\n",
       "      <td>0.000000</td>\n",
       "      <td>...</td>\n",
       "      <td>1.721130</td>\n",
       "      <td>1.721130</td>\n",
       "      <td>0.764402</td>\n",
       "      <td>0.764402</td>\n",
       "      <td>0.000000</td>\n",
       "      <td>1.192534</td>\n",
       "      <td>0.000000</td>\n",
       "      <td>0.0</td>\n",
       "      <td>0.000000</td>\n",
       "      <td>1.721130</td>\n",
       "    </tr>\n",
       "    <tr>\n",
       "      <th>1935</th>\n",
       "      <td>2.596745</td>\n",
       "      <td>0.000000</td>\n",
       "      <td>0.670586</td>\n",
       "      <td>0.000000</td>\n",
       "      <td>0.670586</td>\n",
       "      <td>0.670586</td>\n",
       "      <td>0.000000</td>\n",
       "      <td>1.068417</td>\n",
       "      <td>1.068417</td>\n",
       "      <td>0.000000</td>\n",
       "      <td>...</td>\n",
       "      <td>1.573092</td>\n",
       "      <td>1.068417</td>\n",
       "      <td>1.068417</td>\n",
       "      <td>1.068417</td>\n",
       "      <td>1.068417</td>\n",
       "      <td>1.573092</td>\n",
       "      <td>0.000000</td>\n",
       "      <td>0.0</td>\n",
       "      <td>0.000000</td>\n",
       "      <td>2.356489</td>\n",
       "    </tr>\n",
       "    <tr>\n",
       "      <th>3967</th>\n",
       "      <td>2.377751</td>\n",
       "      <td>0.000000</td>\n",
       "      <td>0.000000</td>\n",
       "      <td>0.000000</td>\n",
       "      <td>1.333544</td>\n",
       "      <td>0.000000</td>\n",
       "      <td>0.874315</td>\n",
       "      <td>0.874315</td>\n",
       "      <td>0.000000</td>\n",
       "      <td>0.000000</td>\n",
       "      <td>...</td>\n",
       "      <td>0.000000</td>\n",
       "      <td>0.874315</td>\n",
       "      <td>0.000000</td>\n",
       "      <td>0.000000</td>\n",
       "      <td>0.000000</td>\n",
       "      <td>0.000000</td>\n",
       "      <td>0.000000</td>\n",
       "      <td>0.0</td>\n",
       "      <td>0.000000</td>\n",
       "      <td>1.647061</td>\n",
       "    </tr>\n",
       "    <tr>\n",
       "      <th>2658</th>\n",
       "      <td>2.845406</td>\n",
       "      <td>0.516026</td>\n",
       "      <td>0.000000</td>\n",
       "      <td>0.000000</td>\n",
       "      <td>0.000000</td>\n",
       "      <td>1.308718</td>\n",
       "      <td>0.854718</td>\n",
       "      <td>2.131669</td>\n",
       "      <td>1.107264</td>\n",
       "      <td>0.516026</td>\n",
       "      <td>...</td>\n",
       "      <td>0.516026</td>\n",
       "      <td>1.107264</td>\n",
       "      <td>0.000000</td>\n",
       "      <td>0.000000</td>\n",
       "      <td>0.000000</td>\n",
       "      <td>0.516026</td>\n",
       "      <td>0.000000</td>\n",
       "      <td>0.0</td>\n",
       "      <td>0.000000</td>\n",
       "      <td>0.516026</td>\n",
       "    </tr>\n",
       "  </tbody>\n",
       "</table>\n",
       "<p>1000 rows × 9137 columns</p>\n",
       "</div>"
      ],
      "text/plain": [
       "          Xkr4   Gm19938    Mrpl15    Lypla1     Tcea1     Rgs20   Atp6v1h  \\\n",
       "448   2.753780  0.434709  0.000000  0.000000  1.314414  0.000000  1.314414   \n",
       "205   2.769547  0.000000  0.000000  0.000000  0.000000  0.000000  1.789056   \n",
       "1572  2.613316  0.000000  0.000000  0.000000  0.582363  0.947994  0.582363   \n",
       "4823  2.665872  0.000000  0.000000  0.670773  0.000000  0.000000  1.068668   \n",
       "2924  3.138023  0.588962  0.000000  0.337228  0.789900  0.588962  0.337228   \n",
       "...        ...       ...       ...       ...       ...       ...       ...   \n",
       "4707  0.000000  0.000000  1.022448  0.000000  0.000000  3.550188  0.000000   \n",
       "2490  2.200992  0.000000  0.000000  0.000000  0.764402  0.764402  0.000000   \n",
       "1935  2.596745  0.000000  0.670586  0.000000  0.670586  0.670586  0.000000   \n",
       "3967  2.377751  0.000000  0.000000  0.000000  1.333544  0.000000  0.874315   \n",
       "2658  2.845406  0.516026  0.000000  0.000000  0.000000  1.308718  0.854718   \n",
       "\n",
       "        Rb1cc1    Pcmtd1   Gm26901  ...   mt-Atp6    mt-Co3    mt-Nd3  \\\n",
       "448   1.571029  0.434709  0.000000  ...  1.450931  1.314414  0.736699   \n",
       "205   0.000000  1.250446  0.000000  ...  1.250446  1.250446  0.000000   \n",
       "1572  0.582363  1.747735  0.000000  ...  0.947994  0.000000  0.000000   \n",
       "4823  0.670773  1.068668  0.670773  ...  1.068668  1.068668  0.000000   \n",
       "2924  0.789900  0.789900  0.000000  ...  0.337228  0.588962  0.000000   \n",
       "...        ...       ...       ...  ...       ...       ...       ...   \n",
       "4707  1.022448  1.846875  0.000000  ...  0.000000  1.022448  0.000000   \n",
       "2490  1.491359  0.764402  0.000000  ...  1.721130  1.721130  0.764402   \n",
       "1935  1.068417  1.068417  0.000000  ...  1.573092  1.068417  1.068417   \n",
       "3967  0.874315  0.000000  0.000000  ...  0.000000  0.874315  0.000000   \n",
       "2658  2.131669  1.107264  0.516026  ...  0.516026  1.107264  0.000000   \n",
       "\n",
       "        mt-Nd4    mt-Nd5   mt-Cytb  CAAA01118383.1  Vamp7     Tmlhe  \\\n",
       "448   0.736699  0.434709  0.736699        0.000000    0.0  0.434709   \n",
       "205   0.000000  1.250446  1.789056        0.000000    0.0  0.000000   \n",
       "1572  0.000000  0.000000  0.000000        0.000000    0.0  0.000000   \n",
       "4823  0.000000  0.000000  0.000000        0.000000    0.0  0.000000   \n",
       "2924  0.337228  0.000000  0.588962        0.337228    0.0  0.337228   \n",
       "...        ...       ...       ...             ...    ...       ...   \n",
       "4707  0.000000  0.000000  0.000000        0.000000    0.0  0.000000   \n",
       "2490  0.764402  0.000000  1.192534        0.000000    0.0  0.000000   \n",
       "1935  1.068417  1.068417  1.573092        0.000000    0.0  0.000000   \n",
       "3967  0.000000  0.000000  0.000000        0.000000    0.0  0.000000   \n",
       "2658  0.000000  0.000000  0.516026        0.000000    0.0  0.000000   \n",
       "\n",
       "      AC149090.1  \n",
       "448     1.571029  \n",
       "205     0.000000  \n",
       "1572    0.947994  \n",
       "4823    1.573395  \n",
       "2924    0.789900  \n",
       "...          ...  \n",
       "4707    0.000000  \n",
       "2490    1.721130  \n",
       "1935    2.356489  \n",
       "3967    1.647061  \n",
       "2658    0.516026  \n",
       "\n",
       "[1000 rows x 9137 columns]"
      ]
     },
     "execution_count": 70,
     "metadata": {},
     "output_type": "execute_result"
    }
   ],
   "source": [
    "training_data['X_test']"
   ]
  },
  {
   "cell_type": "code",
   "execution_count": 71,
   "metadata": {},
   "outputs": [
    {
     "name": "stdout",
     "output_type": "stream",
     "text": [
      "Fitting model...\n"
     ]
    }
   ],
   "source": [
    "# hyperparameters that can be adjusted in the final model\n",
    "xgb_model = XGBClassifier(learning_rate=0.1, # play around with learning rate\n",
    "                    n_estimators=300, # play around with number of boosted trees built\n",
    "                    max_depth=9, # play around with tree depth\n",
    "                    objective='multi:softmax',  # I saw that using softmax or softprob is best for multi class classification\n",
    "                    nthread=4,\n",
    "                    num_class=3,\n",
    "                    seed=1 # seed is included for reproducibility\n",
    "                    )\n",
    "\n",
    "xgb_trained = fit(xgb_model, training_data)"
   ]
  },
  {
   "cell_type": "markdown",
   "metadata": {},
   "source": [
    "read in test.csv.gz to assess model and predictions"
   ]
  },
  {
   "cell_type": "code",
   "execution_count": null,
   "metadata": {},
   "outputs": [],
   "source": [
    "test = pd.read_csv('../data/test.csv.gz', compression='gzip', usecols=gene_column_headers_filtered)\n",
    "test"
   ]
  },
  {
   "cell_type": "code",
   "execution_count": null,
   "metadata": {},
   "outputs": [],
   "source": [
    "# get it into dmatrix again\n",
    "X = test\n",
    "testing_data = xgb.DMatrix(data=X)"
   ]
  },
  {
   "cell_type": "code",
   "execution_count": null,
   "metadata": {},
   "outputs": [],
   "source": [
    "test = xgb.DMatrix(training_data['X_test'], label=training_data['y_test'])\n",
    "pred = xgb_trained.predict(test)"
   ]
  },
  {
   "cell_type": "code",
   "execution_count": null,
   "metadata": {},
   "outputs": [],
   "source": [
    "print(classification_report(training_data['y_test'], pred))"
   ]
  },
  {
   "cell_type": "code",
   "execution_count": null,
   "metadata": {},
   "outputs": [],
   "source": [
    "confusion_matrix = confusion_matrix(training_data['y_test'], pred)"
   ]
  },
  {
   "cell_type": "code",
   "execution_count": null,
   "metadata": {},
   "outputs": [],
   "source": [
    "import graphviz\n",
    "plt.rcParams[\"figure.figsize\"] = [22,40]\n",
    "xgb.plot_tree(xgb_trained)"
   ]
  },
  {
   "cell_type": "code",
   "execution_count": null,
   "metadata": {},
   "outputs": [],
   "source": [
    "plt.rcParams[\"figure.figsize\"] = [22,22]\n",
    "xgb.plot_importance(xgb_trained)"
   ]
  },
  {
   "cell_type": "markdown",
   "metadata": {},
   "source": [
    "as expected alot of features aren't very important but lets still try running our classifier with our raw data "
   ]
  },
  {
   "cell_type": "markdown",
   "metadata": {},
   "source": [
    "Raw data. Assess performance"
   ]
  },
  {
   "cell_type": "code",
   "execution_count": null,
   "metadata": {},
   "outputs": [],
   "source": [
    "# split into train and validation set using sklearn\n",
    "y = df['labels']\n",
    "X = df.loc[:, df.columns != 'labels'] \n",
    "\n",
    "# need to transform our labels from [KAT5, CBP, eGFP] -> [0,1,2] \n",
    "label_encoder = LabelEncoder()\n",
    "y = label_encoder.fit_transform(y)"
   ]
  },
  {
   "cell_type": "code",
   "execution_count": null,
   "metadata": {},
   "outputs": [],
   "source": [
    "# perform a typical split\n",
    "X_train, X_test, y_train, y_test = train_test_split(X, y, test_size=0.2, stratify = y)\n",
    "\n",
    "data = {'X_train':X_train,'y_train':y_train,\n",
    "                'X_test': X_val,'y_test':y_val}"
   ]
  },
  {
   "cell_type": "code",
   "execution_count": null,
   "metadata": {},
   "outputs": [],
   "source": [
    "X_train.shape"
   ]
  },
  {
   "cell_type": "code",
   "execution_count": null,
   "metadata": {},
   "outputs": [],
   "source": [
    "y_train.shape"
   ]
  },
  {
   "cell_type": "code",
   "execution_count": null,
   "metadata": {},
   "outputs": [],
   "source": [
    "# hyperparameters that can be adjusted in the final model\n",
    "xgb_model = XGBClassifier(learning_rate=0.1, # play around with learning rate\n",
    "                    n_estimators=300, # play around with number of boosted trees built\n",
    "                    max_depth=5, # play around with tree depth\n",
    "                    objective='multi:softmax',  # I saw that using softmax or softprob is best for multi class classification\n",
    "                    nthread=4,\n",
    "                    num_class=3,\n",
    "                    seed=1 # seed is included for reproducibility\n",
    "                    )\n",
    "\n",
    "xgb_trained = fit(xgb_model, training_data)"
   ]
  },
  {
   "cell_type": "markdown",
   "metadata": {},
   "source": [
    "I kinda 'cleaned' the code a bit, but I don't know if you wanted to include multiple models with different hyperparamaters, cause maybe it's enough to mention in the report that we played around with, or do we let them in ?"
   ]
  },
  {
   "cell_type": "markdown",
   "metadata": {},
   "source": []
  }
 ],
 "metadata": {
  "kernelspec": {
   "display_name": "Python 3.9.7 ('base')",
   "language": "python",
   "name": "python3"
  },
  "language_info": {
   "codemirror_mode": {
    "name": "ipython",
    "version": 3
   },
   "file_extension": ".py",
   "mimetype": "text/x-python",
   "name": "python",
   "nbconvert_exporter": "python",
   "pygments_lexer": "ipython3",
   "version": "3.9.7"
  },
  "vscode": {
   "interpreter": {
    "hash": "c9c10a8121bbc77dcf30429ad2ceb1cec05622d2392b89908360caf11e90a899"
   }
  }
 },
 "nbformat": 4,
 "nbformat_minor": 2
}
